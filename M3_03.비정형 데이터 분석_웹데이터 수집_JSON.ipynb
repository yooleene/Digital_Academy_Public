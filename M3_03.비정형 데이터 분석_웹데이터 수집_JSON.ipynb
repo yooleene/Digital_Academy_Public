{
 "cells": [
  {
   "cell_type": "markdown",
   "metadata": {},
   "source": [
    "## 실전연습) 교보문고 베스트셀러(Json데이터)"
   ]
  },
  {
   "cell_type": "markdown",
   "metadata": {},
   "source": [
    "https://www.kyobobook.co.kr/ 에서 제공하는 베스트셀러 목차 정보를 수집해 봅시다.<br>\n",
    "크롬 개발자 도구를 사용하여 데이터가 담긴 parameter를 정확히 확인한 후, <br>\n",
    "requests 모듈을 이용해 데이터를 로드해 보세요.<br>\n",
    "* 베스트셀러 검색 기준 : 베스트셀러-종합베스트-월간(1위~100위) "
   ]
  },
  {
   "cell_type": "code",
   "execution_count": null,
   "metadata": {},
   "outputs": [],
   "source": []
  }
 ],
 "metadata": {
  "interpreter": {
   "hash": "e2782e0ab7cab974e8fb2dfc8cec048a29dc3b50e54743df0c4a34ac41b2be7e"
  },
  "kernelspec": {
   "display_name": "Python 3.8.10 64-bit",
   "language": "python",
   "name": "python3"
  },
  "language_info": {
   "codemirror_mode": {
    "name": "ipython",
    "version": 3
   },
   "file_extension": ".py",
   "mimetype": "text/x-python",
   "name": "python",
   "nbconvert_exporter": "python",
   "pygments_lexer": "ipython3",
   "version": "3.9.10"
  },
  "orig_nbformat": 4
 },
 "nbformat": 4,
 "nbformat_minor": 2
}
