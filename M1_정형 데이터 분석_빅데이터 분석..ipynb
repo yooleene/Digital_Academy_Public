{
 "cells": [
  {
   "cell_type": "markdown",
   "id": "f586fac0",
   "metadata": {},
   "source": [
    "## 실습1 :  PC에서 데이터 불러오기, 내용 들려다보기\n",
    "  - 0. package import 하기\n",
    "  - 1. pc에서 co2_자동차배출량.csv' 불러오기\n",
    "  - 2. 앞쪽, 뒤쪽 5개의 행 데이터 들려다 보기\n",
    "  - 3. 데이터프레임의 행과 열 크기 확인 및 index, column, value 가져오기\n",
    "  - 4. 각 열의 데이터 타입 확인 및 변경\n",
    "  - 5. 기초 통계량 확인"
   ]
  },
  {
   "cell_type": "markdown",
   "id": "0d63573a-b87e-4671-847b-e85943e7aca6",
   "metadata": {},
   "source": [
    "#### 0. package import 하기"
   ]
  },
  {
   "cell_type": "code",
   "execution_count": 261,
   "id": "cfb82561",
   "metadata": {},
   "outputs": [],
   "source": []
  },
  {
   "cell_type": "code",
   "execution_count": 262,
   "id": "181750f5",
   "metadata": {},
   "outputs": [],
   "source": [
    "# 맑은 고딕 적용\n",
    "matplotlib.rc(\"font\", family = \"Malgun Gothic\")\n",
    "\n",
    "# matplotlib 이용한 그래프 실행 및 결과 확인 \n",
    "%matplotlib inline\n",
    "\n",
    "# 그래프 음수 표시\n",
    "matplotlib.rcParams['axes.unicode_minus'] = False"
   ]
  },
  {
   "cell_type": "code",
   "execution_count": 263,
   "id": "5d1b7441",
   "metadata": {},
   "outputs": [],
   "source": [
    "import warnings\n",
    "warnings.filterwarnings(\"ignore\")\n",
    "\n",
    "# %config Completer.use_jedi = False  # tab기능 미작동시 "
   ]
  },
  {
   "cell_type": "markdown",
   "id": "cc16978b",
   "metadata": {},
   "source": [
    "#### 1. pc에서 co2_자동차배출량.csv' 불러오기"
   ]
  },
  {
   "cell_type": "code",
   "execution_count": 264,
   "id": "c2f98260",
   "metadata": {},
   "outputs": [],
   "source": []
  },
  {
   "cell_type": "markdown",
   "id": "1fe579a2",
   "metadata": {},
   "source": [
    "#### 2. 데이터 들려다 보기"
   ]
  },
  {
   "cell_type": "code",
   "execution_count": null,
   "id": "f7174159",
   "metadata": {},
   "outputs": [],
   "source": []
  },
  {
   "cell_type": "markdown",
   "id": "af842f7b",
   "metadata": {},
   "source": [
    "#### 3. 데이터프레임의 행과 열 크기 확인 및 index, column, value 가져오기"
   ]
  },
  {
   "cell_type": "code",
   "execution_count": 270,
   "id": "f56cfded",
   "metadata": {},
   "outputs": [],
   "source": [
    "# method : shape, dtypes, astype()\n",
    "# astype() : \"int\", \"float\", \"category\""
   ]
  },
  {
   "cell_type": "code",
   "execution_count": 271,
   "id": "92c104d8",
   "metadata": {},
   "outputs": [],
   "source": [
    "# 데이터프레임의 행과 열 크기 확인"
   ]
  },
  {
   "cell_type": "code",
   "execution_count": null,
   "id": "7f2eeb7e",
   "metadata": {},
   "outputs": [],
   "source": []
  },
  {
   "cell_type": "code",
   "execution_count": 274,
   "id": "32add278",
   "metadata": {},
   "outputs": [],
   "source": [
    "# index, column, value 가져오기"
   ]
  },
  {
   "cell_type": "code",
   "execution_count": null,
   "id": "35be63f0",
   "metadata": {},
   "outputs": [],
   "source": []
  },
  {
   "cell_type": "markdown",
   "id": "ed711298",
   "metadata": {},
   "source": [
    "#### 4. 각 열의 데이터 타입 확인 및 변경"
   ]
  },
  {
   "cell_type": "code",
   "execution_count": null,
   "id": "04e7372b",
   "metadata": {},
   "outputs": [],
   "source": []
  },
  {
   "cell_type": "markdown",
   "id": "7b32f7a8",
   "metadata": {},
   "source": [
    "#### 6. 기초 통계량 확인"
   ]
  },
  {
   "cell_type": "code",
   "execution_count": 285,
   "id": "362c1f27",
   "metadata": {},
   "outputs": [],
   "source": [
    "# method : info(), describe()"
   ]
  },
  {
   "cell_type": "code",
   "execution_count": null,
   "id": "267e85e1-3b66-4eb8-ad3d-8623ab3b22f5",
   "metadata": {},
   "outputs": [],
   "source": []
  },
  {
   "cell_type": "markdown",
   "id": "eda1ae0d",
   "metadata": {},
   "source": [
    "## Mission \n",
    " - pc에서 co2_국가배출량.csv 불러오기\n",
    " - 앞쪽, 뒤쪽 5개의 행 데이터 들려다 보기\n",
    " - 데이터프레임의 행과 열 크기 확인, 각 열의 데이터 타입 확인\n",
    " - Year 데이터 타입을 category로 변경"
   ]
  },
  {
   "cell_type": "code",
   "execution_count": 294,
   "id": "c1660d30",
   "metadata": {},
   "outputs": [],
   "source": []
  },
  {
   "cell_type": "markdown",
   "id": "724060ec",
   "metadata": {},
   "source": [
    "# .\n",
    "# .\n",
    "# ."
   ]
  },
  {
   "cell_type": "code",
   "execution_count": null,
   "id": "0fbbd318",
   "metadata": {},
   "outputs": [],
   "source": []
  },
  {
   "cell_type": "markdown",
   "id": "e6eed5e6",
   "metadata": {},
   "source": [
    "## 실습 2 : 데이터 추출\n",
    " - 1. 열 선택\n",
    "    - 메이커,모델, 스펙의 열을 선택\n",
    "    - 변속기 열을 삭제\n",
    " - 2. 행 선택\n",
    "    - 행 순서 0에서 5까지 선택\n",
    "    - 메이커이 AUDI인 행 선택\n",
    " - 3. 행과 열 선택\n",
    "    - 메이커가  AUDI이고 배기량이 3보다 큰 행의 co2배출량의 평균?\n",
    "    - 열 순서 0에서 5까지, 열은 끝에서 2이상 "
   ]
  },
  {
   "cell_type": "markdown",
   "id": "2c59a12f",
   "metadata": {},
   "source": [
    "#### 1. 열 선택 : Fancy index"
   ]
  },
  {
   "cell_type": "markdown",
   "id": "1be118e7",
   "metadata": {},
   "source": [
    "####  1.1  메이커,모델, 스펙의 열을 선택"
   ]
  },
  {
   "cell_type": "code",
   "execution_count": 304,
   "id": "7cb2858a",
   "metadata": {},
   "outputs": [],
   "source": [
    "method : [[ ]]"
   ]
  },
  {
   "cell_type": "code",
   "execution_count": null,
   "id": "6ab7fe4a",
   "metadata": {},
   "outputs": [],
   "source": []
  },
  {
   "cell_type": "markdown",
   "id": "c69398f0",
   "metadata": {},
   "source": [
    "##### 1.2 변속기 열을 삭제"
   ]
  },
  {
   "cell_type": "code",
   "execution_count": 308,
   "id": "89773758",
   "metadata": {},
   "outputs": [],
   "source": [
    "# method : drop()"
   ]
  },
  {
   "cell_type": "code",
   "execution_count": null,
   "id": "b5c408f6",
   "metadata": {},
   "outputs": [],
   "source": []
  },
  {
   "cell_type": "markdown",
   "id": "4b4ea0cb",
   "metadata": {},
   "source": [
    "#### 2 행 선택 : Slicing, Masking"
   ]
  },
  {
   "cell_type": "markdown",
   "id": "1664eae9",
   "metadata": {},
   "source": [
    "#### 2.1 Slicing"
   ]
  },
  {
   "cell_type": "code",
   "execution_count": 311,
   "id": "bef1f187",
   "metadata": {},
   "outputs": [],
   "source": [
    "# 행 순서 0에서 5까지 선택\n",
    "# method : [start : end], iloc[ ]"
   ]
  },
  {
   "cell_type": "code",
   "execution_count": null,
   "id": "c2f24a57",
   "metadata": {},
   "outputs": [],
   "source": []
  },
  {
   "cell_type": "markdown",
   "id": "fb8c41ae",
   "metadata": {},
   "source": [
    "#### 2.2  Masking"
   ]
  },
  {
   "cell_type": "code",
   "execution_count": 315,
   "id": "3a7066d5",
   "metadata": {},
   "outputs": [],
   "source": [
    "# 메이커이 AUDI인 행 선택. 비교 연산자 : equal(==), not equal(!=), greater(>), greater or equal(>=), <,<=\n",
    "# method : [  ], loc[   ]"
   ]
  },
  {
   "cell_type": "code",
   "execution_count": null,
   "id": "64380515",
   "metadata": {},
   "outputs": [],
   "source": []
  },
  {
   "cell_type": "markdown",
   "id": "6e22d0cc",
   "metadata": {},
   "source": [
    "#### 3 행과 열 선택 : .loc[ , ],  iloc[ , ]"
   ]
  },
  {
   "cell_type": "code",
   "execution_count": null,
   "id": "48adf2e0",
   "metadata": {},
   "outputs": [],
   "source": []
  },
  {
   "cell_type": "code",
   "execution_count": 321,
   "id": "f95f47d8",
   "metadata": {},
   "outputs": [],
   "source": [
    "# 메이커가  AUDI이고 배기량이 3보다 큰 행의 co2배출량의 평균?    # bitwise 논리 연산자 : and(&), or(|), not(~)"
   ]
  },
  {
   "cell_type": "code",
   "execution_count": null,
   "id": "e8d9ed16",
   "metadata": {},
   "outputs": [],
   "source": []
  },
  {
   "cell_type": "code",
   "execution_count": 323,
   "id": "dd8a52ef",
   "metadata": {},
   "outputs": [],
   "source": [
    "# 열 순서 0, 5이고 열은 끝에서 2 이상\n",
    "# method : iloc[  ,  ]"
   ]
  },
  {
   "cell_type": "code",
   "execution_count": null,
   "id": "150a6bd2",
   "metadata": {},
   "outputs": [],
   "source": []
  },
  {
   "cell_type": "code",
   "execution_count": 329,
   "id": "9f2deec2",
   "metadata": {},
   "outputs": [],
   "source": [
    "# 메이커가  AUDI이고 배기량이 3보다 큰 행의 co2배출량의 상위 20개의 평균?"
   ]
  },
  {
   "cell_type": "code",
   "execution_count": null,
   "id": "71ace70d",
   "metadata": {},
   "outputs": [],
   "source": []
  },
  {
   "cell_type": "markdown",
   "id": "c1b818f1",
   "metadata": {},
   "source": [
    "## Mission\n",
    " - Country가 South Korea의 CO2_emission 평균?\n",
    " - E로 시작하는 열을 선택하고, 열의 개수?"
   ]
  },
  {
   "cell_type": "code",
   "execution_count": null,
   "id": "8f825206",
   "metadata": {},
   "outputs": [],
   "source": []
  },
  {
   "cell_type": "markdown",
   "id": "f4d659ba",
   "metadata": {},
   "source": [
    "# .\n",
    "# .\n",
    "# ."
   ]
  },
  {
   "cell_type": "markdown",
   "id": "60fb97cb",
   "metadata": {},
   "source": [
    "## 실습 3 : 결측치 처리\n",
    "  - 1. 열별로의 결측치 개수 확인하기\n",
    "  - 2. 수치형 변수 CITY연비, CO2배출량은 평균값으로 대체\n",
    "  - 3.  범주형 변수 모델, 스펙, 기통은 최빈값으로 대체"
   ]
  },
  {
   "cell_type": "markdown",
   "id": "03fa7023",
   "metadata": {},
   "source": [
    "#### 1. 열별로의 결측치 개수 확인하기"
   ]
  },
  {
   "cell_type": "code",
   "execution_count": 334,
   "id": "39a4eb46",
   "metadata": {},
   "outputs": [],
   "source": [
    "# method : isnull(), sum()"
   ]
  },
  {
   "cell_type": "code",
   "execution_count": null,
   "id": "ede243e7",
   "metadata": {},
   "outputs": [],
   "source": []
  },
  {
   "cell_type": "markdown",
   "id": "2a503672",
   "metadata": {},
   "source": [
    "#### 2. 수치형 변수 CITY연비, CO2배출량은 평균값으로 대체"
   ]
  },
  {
   "cell_type": "code",
   "execution_count": null,
   "id": "a1ed7fd1",
   "metadata": {},
   "outputs": [],
   "source": []
  },
  {
   "cell_type": "markdown",
   "id": "f8f4404b",
   "metadata": {},
   "source": [
    "#### 3. 범주형 변수 모델, 스펙, 기통은 행 제거하기"
   ]
  },
  {
   "cell_type": "code",
   "execution_count": null,
   "id": "b0e0230c-6968-447a-9e7a-5c106334a0b6",
   "metadata": {},
   "outputs": [],
   "source": []
  },
  {
   "cell_type": "markdown",
   "id": "ad6d161e",
   "metadata": {},
   "source": [
    "## Mission\n",
    " - 열별로의 결측치 개수 확인하기"
   ]
  },
  {
   "cell_type": "code",
   "execution_count": null,
   "id": "d0d20601",
   "metadata": {},
   "outputs": [],
   "source": []
  },
  {
   "cell_type": "markdown",
   "id": "766236b6",
   "metadata": {},
   "source": [
    "# .\n",
    "# .\n",
    "# ."
   ]
  },
  {
   "cell_type": "markdown",
   "id": "36e7f96a",
   "metadata": {},
   "source": [
    "## 4 실습 : 이상치 처리\n",
    " - 1. 수치형 변수 이상치 확인\n",
    " - 2. 범주형 변수 이상치 확인\n",
    " - 3. 전처리완료 데이터 PC에 저장하기"
   ]
  },
  {
   "cell_type": "markdown",
   "id": "f200e4d2",
   "metadata": {},
   "source": [
    "#### 1. 수치형 변수 이상치 확인 : 히스토그램, 박스플롯"
   ]
  },
  {
   "cell_type": "code",
   "execution_count": null,
   "id": "d9dca324",
   "metadata": {},
   "outputs": [],
   "source": []
  },
  {
   "cell_type": "markdown",
   "id": "1318c3eb",
   "metadata": {},
   "source": [
    "#### 2. 범주형 변수 이상치 확인"
   ]
  },
  {
   "cell_type": "code",
   "execution_count": null,
   "id": "4e107251",
   "metadata": {},
   "outputs": [],
   "source": []
  },
  {
   "cell_type": "markdown",
   "id": "ff86d506",
   "metadata": {},
   "source": [
    "#### 3. 전처리완료 데이터 PC에 저장하기"
   ]
  },
  {
   "cell_type": "code",
   "execution_count": 385,
   "id": "5780e43d",
   "metadata": {},
   "outputs": [],
   "source": []
  },
  {
   "cell_type": "markdown",
   "id": "e9b58297",
   "metadata": {},
   "source": [
    "## Mission\n",
    "  - 수치형 변수 이상치 확인\n",
    "  - 범주형 변수 이상치 확인"
   ]
  },
  {
   "cell_type": "code",
   "execution_count": null,
   "id": "9c911ffc",
   "metadata": {},
   "outputs": [],
   "source": []
  },
  {
   "cell_type": "markdown",
   "id": "b32deebf",
   "metadata": {},
   "source": [
    "# .\n",
    "# .\n",
    "# ."
   ]
  },
  {
   "cell_type": "markdown",
   "id": "17cb4d75",
   "metadata": {},
   "source": [
    "## 실습 5 : 데이터 집계\n",
    " - 1. CO2배출량의 평균, 중앙값, 표준편차 계산하기\n",
    " - 2. 메이커별 CO2배출량의 평균?\n",
    " - 3. 메이커별 CO2배출량의 초대값과 최소값 차이?\n",
    " - 4. 1차 메이커별로 2차 스펙별 CO2배출량의 평균 계산하고 그래프로 표시하기\n",
    " - 5. 메키커별 CO2배출량 상위 2개의 차량?\n",
    " - 6. 메이커의 범주별 개수를 확인하고 그래프로 표시하기"
   ]
  },
  {
   "cell_type": "markdown",
   "id": "698f9fd5",
   "metadata": {},
   "source": [
    "#### 1. CO2배출량의 평균, 중앙값, 표준편차 계산하기"
   ]
  },
  {
   "cell_type": "code",
   "execution_count": 396,
   "id": "a8d15058",
   "metadata": {},
   "outputs": [],
   "source": [
    "# method : mean(), median(), max(), min(), agg()"
   ]
  },
  {
   "cell_type": "code",
   "execution_count": 397,
   "id": "a5ed1c12",
   "metadata": {},
   "outputs": [],
   "source": []
  },
  {
   "cell_type": "markdown",
   "id": "3f424ccd-0181-4a49-95f8-f8abe1f523b7",
   "metadata": {},
   "source": [
    "#### 2. 메이커별 CO2배출량의 평균?"
   ]
  },
  {
   "cell_type": "code",
   "execution_count": null,
   "id": "ae33b5df-019c-4490-bb9b-4aea685c790f",
   "metadata": {},
   "outputs": [],
   "source": []
  },
  {
   "cell_type": "markdown",
   "id": "572820dc-2959-42ca-b26d-5ed088083007",
   "metadata": {},
   "source": [
    "#### 3. 메이커별 CO2배출량의 초대값과 최소값 차이?"
   ]
  },
  {
   "cell_type": "code",
   "execution_count": null,
   "id": "960de625-ee54-4269-b5f8-1d9e53a9b5dc",
   "metadata": {},
   "outputs": [],
   "source": []
  },
  {
   "cell_type": "markdown",
   "id": "d67791bf-e952-479c-b0a1-1da394cfab47",
   "metadata": {},
   "source": [
    "#### 4. 1차 메이커별로 2차 스펙별 CO2배출량의 평균 계산하고 그래프로 표시하기"
   ]
  },
  {
   "cell_type": "code",
   "execution_count": null,
   "id": "f575d9ca-01e5-4f2e-a2fa-ca6cdb632b0d",
   "metadata": {},
   "outputs": [],
   "source": []
  },
  {
   "cell_type": "markdown",
   "id": "7860b92d-6d19-40ed-a4bf-863943b48c8e",
   "metadata": {},
   "source": [
    "#### 5. 메키커별 CO2배출량 상위 2개의 차량?"
   ]
  },
  {
   "cell_type": "code",
   "execution_count": null,
   "id": "f002683e-4ba2-492a-948b-bba1c11ecbac",
   "metadata": {},
   "outputs": [],
   "source": []
  },
  {
   "cell_type": "markdown",
   "id": "3dd3d2fa-9b21-43b9-b367-a95156856a4b",
   "metadata": {},
   "source": [
    "#### 6. 메이커의 범주별 개수를 확인하고 그래프로 표시하기"
   ]
  },
  {
   "cell_type": "code",
   "execution_count": null,
   "id": "a32c1411-9d50-44b3-ab4d-b39056f83ff7",
   "metadata": {},
   "outputs": [],
   "source": []
  },
  {
   "cell_type": "markdown",
   "id": "de62b112",
   "metadata": {},
   "source": [
    "## Mission\n",
    " - CO2_emission 평균, 중앙값,최대값, 최소값?\n",
    " - Country별 CO2_emission 평균 확인하고, 평균값의 상위 10개에 대하여 막대그래프 그리기"
   ]
  },
  {
   "cell_type": "code",
   "execution_count": null,
   "id": "54696d69",
   "metadata": {},
   "outputs": [],
   "source": []
  },
  {
   "cell_type": "markdown",
   "id": "689d84ef",
   "metadata": {},
   "source": [
    "# .\n",
    "# .\n",
    "# ."
   ]
  },
  {
   "cell_type": "markdown",
   "id": "01e0d250",
   "metadata": {},
   "source": [
    "## 실습 6 : 파생변수 생성\n",
    " - 1. CITY연비과 HWY연비의 합의 1/2로 연비 변수 생성하기\n",
    " - 2.  CO2배출량의 제곱근 값 계산하기 \n",
    " - 3. 수치형 변수에 대하여 최소-최대 표준화 하기 : 사용자 정의 함수 활용"
   ]
  },
  {
   "cell_type": "markdown",
   "id": "3ef298bb",
   "metadata": {},
   "source": [
    "#### 1. CITY연비과 HWY연비의 합의 1/2로 연비 변수 생성하기"
   ]
  },
  {
   "cell_type": "code",
   "execution_count": null,
   "id": "f747aacc",
   "metadata": {},
   "outputs": [],
   "source": []
  },
  {
   "cell_type": "markdown",
   "id": "fb899405",
   "metadata": {},
   "source": [
    "#### 2. CO2배출량의 제곱근 값 계산하기"
   ]
  },
  {
   "cell_type": "code",
   "execution_count": 422,
   "id": "9fb64545",
   "metadata": {},
   "outputs": [],
   "source": [
    "# 유니버설 함수 \n",
    "# function : numpy.sqrt()"
   ]
  },
  {
   "cell_type": "code",
   "execution_count": 423,
   "id": "9ef2bd22-bf1e-4462-a151-b4f590cb7c36",
   "metadata": {},
   "outputs": [],
   "source": []
  },
  {
   "cell_type": "markdown",
   "id": "6c2ae6a0",
   "metadata": {},
   "source": [
    "#### 3. 수치형 변수에 대하여 최소-최대 표준화 하기 : 사용자 정의 함수 활용"
   ]
  },
  {
   "cell_type": "code",
   "execution_count": 427,
   "id": "934c9d4f",
   "metadata": {},
   "outputs": [],
   "source": [
    "# method : select_dtypes(), apply()\n",
    "# function : sklearn.preprocessing.minmax_scale()"
   ]
  },
  {
   "cell_type": "code",
   "execution_count": null,
   "id": "82fd12e2-93dd-449e-b57f-8fa84908b0b0",
   "metadata": {},
   "outputs": [],
   "source": []
  },
  {
   "cell_type": "markdown",
   "id": "6ec3f89a",
   "metadata": {},
   "source": [
    "## Mission\n",
    " - Energy_production에서 Energy_consumption 차이를 Energy_production_net의 신규변수 생성\n",
    " - 수치형 변수에 대하여 최소-최대 표준화 하기"
   ]
  },
  {
   "cell_type": "code",
   "execution_count": 431,
   "id": "aa709139",
   "metadata": {},
   "outputs": [],
   "source": []
  },
  {
   "cell_type": "markdown",
   "id": "cb240c67",
   "metadata": {},
   "source": [
    "# .\n",
    "# .\n",
    "# ."
   ]
  },
  {
   "cell_type": "markdown",
   "id": "4d99c47d",
   "metadata": {},
   "source": [
    "## 실습 7 : 그래프 그리기\n",
    " - 1. 수치형 변수 분포 : 히스토그램\n",
    " - 2. 범주형 변수 분포 : 막대 그래프\n",
    " - 3. 결과변수 수치형(CO2배출량) - 원인변수 수치형 관계 : 산점도\n",
    " - 4. 결과변수 수치형CO2배출량) - 원인변수 범주형 관계 : 박스플롯"
   ]
  },
  {
   "cell_type": "markdown",
   "id": "b0ed614b",
   "metadata": {},
   "source": [
    "#### 1. 수치형 변수 분포 : 히스토그램"
   ]
  },
  {
   "cell_type": "code",
   "execution_count": null,
   "id": "62360420",
   "metadata": {},
   "outputs": [],
   "source": []
  },
  {
   "cell_type": "markdown",
   "id": "6e73c18d",
   "metadata": {},
   "source": [
    "#### 2. 범주형 변수 분포 : 막대 그래프"
   ]
  },
  {
   "cell_type": "code",
   "execution_count": null,
   "id": "d5860ced",
   "metadata": {},
   "outputs": [],
   "source": []
  },
  {
   "cell_type": "markdown",
   "id": "9bcb18aa",
   "metadata": {},
   "source": [
    "#### 3. 수치형 - 수치형 관계 : 산점도"
   ]
  },
  {
   "cell_type": "code",
   "execution_count": null,
   "id": "d48ecab1",
   "metadata": {},
   "outputs": [],
   "source": []
  },
  {
   "cell_type": "markdown",
   "id": "a0a296d7",
   "metadata": {},
   "source": [
    "#### 4. 범주형 - 수치형 관계 : 박스플롯"
   ]
  },
  {
   "cell_type": "code",
   "execution_count": null,
   "id": "bf7d82c7-f143-48fd-9b1b-ef7ef550b61b",
   "metadata": {},
   "outputs": [],
   "source": []
  },
  {
   "cell_type": "code",
   "execution_count": null,
   "id": "e8cd55ec",
   "metadata": {},
   "outputs": [],
   "source": []
  },
  {
   "cell_type": "markdown",
   "id": "d835863f",
   "metadata": {},
   "source": [
    "## Mission\n",
    "  - CO2_emission(수치형 변수) 분포 확인\n",
    "  - 결과변수 수치형(CO2_emission - 원인변수 수치형 관계 확인 : 산점도\n",
    "  - 결과변수 수치형(CO2_emission - 원인변수 범주형 관계 확인 : 박스플롯"
   ]
  },
  {
   "cell_type": "code",
   "execution_count": null,
   "id": "4fd0c0fd",
   "metadata": {},
   "outputs": [],
   "source": []
  },
  {
   "cell_type": "markdown",
   "id": "2602347b",
   "metadata": {},
   "source": [
    "# .\n",
    "# .\n",
    "# ."
   ]
  },
  {
   "cell_type": "markdown",
   "id": "db3c0a62",
   "metadata": {},
   "source": [
    "## 실습 8 : 상관분석\n",
    " - 1. 수치형 변수간의 상관계수 확인하기\n",
    " - 2. 결과변수 CO2배출량과 입력변수간 상관계수 확인하고, 크기순으로 정열하기\n",
    " - 3. 결과변수 CO2배출량과 입력변수간 상관계수 크기를 그래프로 그리기"
   ]
  },
  {
   "cell_type": "markdown",
   "id": "fffba5fb",
   "metadata": {},
   "source": [
    "#### 1. 수치형 변수간의 상관계수 확인하기"
   ]
  },
  {
   "cell_type": "code",
   "execution_count": null,
   "id": "5a0f5603",
   "metadata": {
    "scrolled": true
   },
   "outputs": [],
   "source": []
  },
  {
   "cell_type": "markdown",
   "id": "abbbb1b2",
   "metadata": {},
   "source": [
    "#### 2. 결과변수 CO2배출량과 입력변수간 상관계수 확인하고, 크기순으로 정열하기"
   ]
  },
  {
   "cell_type": "code",
   "execution_count": null,
   "id": "c7ebf8db",
   "metadata": {},
   "outputs": [],
   "source": []
  },
  {
   "cell_type": "code",
   "execution_count": null,
   "id": "740fc9fa-def8-48fb-a092-613c669b374d",
   "metadata": {},
   "outputs": [],
   "source": []
  },
  {
   "cell_type": "markdown",
   "id": "1f89bf20",
   "metadata": {},
   "source": [
    "#### 3. 결과변수 CO2배출량과 입력변수간 상관계수 크기를 그래프로 그리기"
   ]
  },
  {
   "cell_type": "code",
   "execution_count": null,
   "id": "fa35a2f0",
   "metadata": {},
   "outputs": [],
   "source": []
  },
  {
   "cell_type": "markdown",
   "id": "2ba98848",
   "metadata": {},
   "source": [
    "## Mission\n",
    " -  수치형 변수간의 상관계수 확인하기\n",
    " -  결과변수 CO2_emission과 입력변수간 상관계수 확인하고, 크기순으로 정열하기\n",
    " -  결과변수 CO2_emission과 입력변수간 상관계수 크기를 그래프로 그리기"
   ]
  },
  {
   "cell_type": "code",
   "execution_count": null,
   "id": "71adba90-bce3-4772-9174-31195448df29",
   "metadata": {},
   "outputs": [],
   "source": []
  },
  {
   "cell_type": "markdown",
   "id": "c1879389",
   "metadata": {},
   "source": [
    "# .\n",
    "# .\n",
    "# ."
   ]
  },
  {
   "cell_type": "markdown",
   "id": "086b1af9",
   "metadata": {},
   "source": [
    "## 실습 9 : 회귀 모델링"
   ]
  },
  {
   "cell_type": "markdown",
   "id": "b76ea859",
   "metadata": {},
   "source": [
    "### [예측 모델링]\n",
    " - 1. 단순선형회귀분석\n",
    " - 2. 다중선형회귀분석"
   ]
  },
  {
   "cell_type": "code",
   "execution_count": 547,
   "id": "2a073f84",
   "metadata": {},
   "outputs": [],
   "source": [
    "# 데이터 분할 : train, test\n",
    "from sklearn.model_selection import train_test_split\n",
    "# 선형회귀 분석\n",
    "from sklearn.linear_model import LinearRegression \n",
    "# 모델성능 평가\n",
    "from sklearn.metrics import r2_score, mean_squared_error "
   ]
  },
  {
   "cell_type": "code",
   "execution_count": 548,
   "id": "89bf9ae5",
   "metadata": {},
   "outputs": [],
   "source": [
    "# import sklearn error 발생, python version 변경으로 해결"
   ]
  },
  {
   "cell_type": "markdown",
   "id": "52f577f0-a4df-4085-95e4-b4757c019d5b",
   "metadata": {},
   "source": [
    "#### 1. 단순선형회귀분석"
   ]
  },
  {
   "cell_type": "markdown",
   "id": "01ec8dee-c4b0-4ce8-b7ab-69dfdfb2d0ce",
   "metadata": {},
   "source": [
    "#### 1) 모델링"
   ]
  },
  {
   "cell_type": "code",
   "execution_count": null,
   "id": "5e0a40ec",
   "metadata": {},
   "outputs": [],
   "source": []
  },
  {
   "cell_type": "markdown",
   "id": "a9ae8b3d-0884-4319-8b1a-28ae98a7d5b3",
   "metadata": {},
   "source": [
    "#### 2) 예측"
   ]
  },
  {
   "cell_type": "code",
   "execution_count": null,
   "id": "a39c21a2",
   "metadata": {},
   "outputs": [],
   "source": []
  },
  {
   "cell_type": "markdown",
   "id": "ccbeb9b6-c3fc-43e1-bb26-3c2f7abdf9fa",
   "metadata": {},
   "source": [
    "#### 3) 잔차 분석"
   ]
  },
  {
   "cell_type": "code",
   "execution_count": null,
   "id": "c1a5e4f4-b995-43fa-939e-a1e1210242dd",
   "metadata": {},
   "outputs": [],
   "source": []
  },
  {
   "cell_type": "markdown",
   "id": "34a83891-54a5-4d3b-9691-c10b6b6a117c",
   "metadata": {},
   "source": [
    "#### 4) 모델 성능 평가 "
   ]
  },
  {
   "cell_type": "code",
   "execution_count": null,
   "id": "8aa1a232-8436-487e-bb57-800f949f1830",
   "metadata": {},
   "outputs": [],
   "source": []
  },
  {
   "cell_type": "markdown",
   "id": "cfac1c69-f3e9-4d9a-a206-cf8395a8339d",
   "metadata": {},
   "source": [
    "#### 2. 다중선형회귀분석"
   ]
  },
  {
   "cell_type": "markdown",
   "id": "33376381-fa14-42eb-92c3-0e9655e40a26",
   "metadata": {},
   "source": [
    "#### 1) 모델링"
   ]
  },
  {
   "cell_type": "code",
   "execution_count": null,
   "id": "4978a843-968d-4e7b-8570-467a2bd2e679",
   "metadata": {},
   "outputs": [],
   "source": []
  },
  {
   "cell_type": "markdown",
   "id": "5c4ff6b0-6bf5-40aa-bf19-23bf1f9056f0",
   "metadata": {},
   "source": [
    "#### 2) 예측"
   ]
  },
  {
   "cell_type": "code",
   "execution_count": null,
   "id": "9ff7cd1d-64eb-4d42-9a68-b7bebf02dcb2",
   "metadata": {},
   "outputs": [],
   "source": []
  },
  {
   "cell_type": "markdown",
   "id": "91a1b35b-76b0-45d1-b5b6-17e82d344019",
   "metadata": {},
   "source": [
    "#### 3) 잔차 분석"
   ]
  },
  {
   "cell_type": "code",
   "execution_count": null,
   "id": "55a95fdb-d29d-49b5-8d2f-78a41a9bb705",
   "metadata": {},
   "outputs": [],
   "source": []
  },
  {
   "cell_type": "markdown",
   "id": "070d9d71-fcfd-461b-910f-ea227943c6f4",
   "metadata": {},
   "source": [
    "#### 4) 모델 성능 평가 "
   ]
  },
  {
   "cell_type": "code",
   "execution_count": null,
   "id": "cb0ec435-8d38-442c-be13-c48d230b9eff",
   "metadata": {},
   "outputs": [],
   "source": []
  },
  {
   "cell_type": "markdown",
   "id": "2c3f5fbc",
   "metadata": {},
   "source": [
    "## Mission\n",
    " -  Energy_consumption과 CO2_emission의 단순선형회귀 분석 실시"
   ]
  },
  {
   "cell_type": "code",
   "execution_count": null,
   "id": "d7f38342",
   "metadata": {},
   "outputs": [],
   "source": []
  },
  {
   "cell_type": "code",
   "execution_count": null,
   "id": "34fcb09b",
   "metadata": {},
   "outputs": [],
   "source": []
  }
 ],
 "metadata": {
  "kernelspec": {
   "display_name": "Python 3 (ipykernel)",
   "language": "python",
   "name": "python3"
  },
  "language_info": {
   "codemirror_mode": {
    "name": "ipython",
    "version": 3
   },
   "file_extension": ".py",
   "mimetype": "text/x-python",
   "name": "python",
   "nbconvert_exporter": "python",
   "pygments_lexer": "ipython3",
   "version": "3.9.13"
  },
  "vscode": {
   "interpreter": {
    "hash": "e2782e0ab7cab974e8fb2dfc8cec048a29dc3b50e54743df0c4a34ac41b2be7e"
   }
  }
 },
 "nbformat": 4,
 "nbformat_minor": 5
}
