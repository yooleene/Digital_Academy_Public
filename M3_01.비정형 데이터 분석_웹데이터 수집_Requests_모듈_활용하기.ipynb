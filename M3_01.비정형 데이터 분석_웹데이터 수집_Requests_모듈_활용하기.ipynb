{
 "cells": [
  {
   "attachments": {},
   "cell_type": "markdown",
   "metadata": {},
   "source": [
    "## requests 모듈 활용하기"
   ]
  },
  {
   "attachments": {},
   "cell_type": "markdown",
   "metadata": {},
   "source": [
    "### 1. get() 메소드 / text 속성"
   ]
  },
  {
   "cell_type": "code",
   "execution_count": null,
   "metadata": {},
   "outputs": [],
   "source": []
  },
  {
   "cell_type": "markdown",
   "metadata": {},
   "source": [
    "### 2. params 파라미터"
   ]
  },
  {
   "cell_type": "code",
   "execution_count": null,
   "metadata": {},
   "outputs": [],
   "source": []
  },
  {
   "attachments": {},
   "cell_type": "markdown",
   "metadata": {},
   "source": [
    "### 3. headers 파라미터"
   ]
  },
  {
   "attachments": {},
   "cell_type": "markdown",
   "metadata": {},
   "source": [
    " - headers 파라미터: User-Agent 정보 변경하기\n",
    " - 사용중인 기기/브라우저의 User-Agent 보기(추천 : 방법1)\n",
    "    - 방법1) 특정 페이지 접속 후 크롬 개발자 모드의 네트워크탭에서 Request Header를 보면 확인가능\n",
    "    - 방법2) https://www.whatismybrowser.com/detect/what-is-my-user-agent 접속 *스마트폰 등 개발자 모드를 사용하기 어려운 환경에서 유용"
   ]
  },
  {
   "attachments": {},
   "cell_type": "markdown",
   "metadata": {},
   "source": [
    "#### - header 없이"
   ]
  },
  {
   "cell_type": "code",
   "execution_count": null,
   "metadata": {},
   "outputs": [],
   "source": []
  },
  {
   "attachments": {},
   "cell_type": "markdown",
   "metadata": {},
   "source": [
    "#### - header추가"
   ]
  },
  {
   "cell_type": "code",
   "execution_count": null,
   "metadata": {},
   "outputs": [],
   "source": []
  },
  {
   "cell_type": "markdown",
   "metadata": {},
   "source": [
    "### 4. json() 메소드"
   ]
  },
  {
   "cell_type": "code",
   "execution_count": null,
   "metadata": {},
   "outputs": [],
   "source": [
    "json_str = '{\"명단\":[{\"이름\":\"홍길동\",\"부서\":\"인사팀\",\"직급\":\"과장\",\"역할\":\"동호회 회장\"}, {\"이름\":\"이순신\",\"부서\":\"구매팀\",\"직급\":\"대리\",\"역할\":\"동호회 총무\"}],\"메타데이터\":{\"데이터 설명\":\"사내 파이썬 동호회 회원명단\",\"등록일\":\"2022-01-18\",\"수정일\":\"2022-01-20\",\"등록자\":\"김두환\"}}'\n",
    "json_str"
   ]
  },
  {
   "cell_type": "code",
   "execution_count": null,
   "metadata": {},
   "outputs": [],
   "source": []
  },
  {
   "cell_type": "code",
   "execution_count": null,
   "metadata": {},
   "outputs": [],
   "source": []
  }
 ],
 "metadata": {
  "interpreter": {
   "hash": "e2782e0ab7cab974e8fb2dfc8cec048a29dc3b50e54743df0c4a34ac41b2be7e"
  },
  "kernelspec": {
   "display_name": "Python 3.8.10 64-bit",
   "language": "python",
   "name": "python3"
  },
  "language_info": {
   "codemirror_mode": {
    "name": "ipython",
    "version": 3
   },
   "file_extension": ".py",
   "mimetype": "text/x-python",
   "name": "python",
   "nbconvert_exporter": "python",
   "pygments_lexer": "ipython3",
   "version": "3.9.10"
  },
  "orig_nbformat": 4
 },
 "nbformat": 4,
 "nbformat_minor": 2
}
